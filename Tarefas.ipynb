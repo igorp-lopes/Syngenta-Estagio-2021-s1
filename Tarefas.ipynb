{
 "metadata": {
  "orig_nbformat": 2,
  "kernelspec": {
   "name": "python3",
   "display_name": "Python 3",
   "language": "python"
  }
 },
 "nbformat": 4,
 "nbformat_minor": 2,
 "cells": [
  {
   "source": [
    "# Processo Seletivo Estágio Syngenta\n",
    "\n",
    "## Tarefa 1 - Conte a quantidade de pixels verdes \n",
    "\n",
    "Para esta primeira tarefa, usaremos a biblioteca opencv para manipularmos a imagem .bmp fornecida a fim de obter as informações que desejamos.\n",
    "Abaixo importamos os módulos que usaremos para a tarefa e carregamos a imagem para manipularmos esta."
   ],
   "cell_type": "markdown",
   "metadata": {}
  },
  {
   "cell_type": "code",
   "execution_count": 1,
   "metadata": {},
   "outputs": [
    {
     "output_type": "execute_result",
     "data": {
      "text/plain": [
       "array([[[0, 0, 0],\n",
       "        [0, 0, 0],\n",
       "        [0, 0, 0],\n",
       "        ...,\n",
       "        [0, 0, 0],\n",
       "        [0, 0, 0],\n",
       "        [0, 0, 0]],\n",
       "\n",
       "       [[0, 0, 0],\n",
       "        [0, 0, 0],\n",
       "        [0, 0, 0],\n",
       "        ...,\n",
       "        [0, 0, 0],\n",
       "        [0, 0, 0],\n",
       "        [0, 0, 0]],\n",
       "\n",
       "       [[0, 0, 0],\n",
       "        [0, 0, 0],\n",
       "        [0, 0, 0],\n",
       "        ...,\n",
       "        [0, 0, 0],\n",
       "        [0, 0, 0],\n",
       "        [0, 0, 0]],\n",
       "\n",
       "       ...,\n",
       "\n",
       "       [[0, 0, 0],\n",
       "        [0, 0, 0],\n",
       "        [0, 0, 0],\n",
       "        ...,\n",
       "        [0, 0, 0],\n",
       "        [0, 0, 0],\n",
       "        [0, 0, 0]],\n",
       "\n",
       "       [[0, 0, 0],\n",
       "        [0, 0, 0],\n",
       "        [0, 0, 0],\n",
       "        ...,\n",
       "        [0, 0, 0],\n",
       "        [0, 0, 0],\n",
       "        [0, 0, 0]],\n",
       "\n",
       "       [[0, 0, 0],\n",
       "        [0, 0, 0],\n",
       "        [0, 0, 0],\n",
       "        ...,\n",
       "        [0, 0, 0],\n",
       "        [0, 0, 0],\n",
       "        [0, 0, 0]]], dtype=uint8)"
      ]
     },
     "metadata": {},
     "execution_count": 1
    }
   ],
   "source": [
    "import cv2 as cv\n",
    "\n",
    "def abre_imagem(path):\n",
    "    return cv.imread(path)\n",
    "\n",
    "img = abre_imagem('resources/Syngenta.bmp')\n",
    "img\n"
   ]
  },
  {
   "source": [
    "A imagem é carregada como um Numpy array, no qual cada pixel é formado por um outro array de 3 valores, adotando a notação RGB para definir qual a cor do pixel em questão (Nota: a biblioteca openCV adota a notação dos valores como BGR e não RGB, como é usual).\n",
    "\n",
    "A próxima etapa agora é identificar quais cores estão presentes na imagem."
   ],
   "cell_type": "markdown",
   "metadata": {}
  },
  {
   "cell_type": "code",
   "execution_count": 2,
   "metadata": {},
   "outputs": [
    {
     "output_type": "execute_result",
     "data": {
      "text/plain": [
       "array([[  0,   0,   0],\n",
       "       [  0, 192,  96],\n",
       "       [255, 255, 255]], dtype=uint8)"
      ]
     },
     "metadata": {},
     "execution_count": 2
    }
   ],
   "source": [
    "import numpy as np\n",
    "\n",
    "img_flat = img.reshape(-1, img.shape[2])\n",
    "unicas = np.unique(img_flat, axis=0)\n",
    "unicas"
   ]
  },
  {
   "source": [
    "Aqui nós primeiro \"achatamos\" o array, de forma que o total de linhas do array seja igual ao total de pixels da imagem. Depois buscamos os elementos únicos que compõem o array, especificando o eixo das linhas (axis = 0), para considerarmos a tupla BGR ao invés de cada valor de forma individual.\n",
    "\n",
    "Identificamos que há 3 cores presentes na imagem. Dada a notação RGB para a cor de cada pixel, sabemos que a tupla (0, 0, 0) representa a cor preta e que a tupla (255, 255, 255) representa a cor branca. Portanto, isso nos leva a concluir que a tupla (0, 192, 96) representa a cor verde que buscamos.\n",
    "\n",
    "Agora, nos resta contar quantos pixels da imagem são representados pela tupla (0, 192, 96) e teremos, assim, o total de pixels verdes na imagem. Para tanto, vale notar que os valores RGB que diferem a cor verde da preta e da branca são relativos às camadas R e G, logo, podemos realizar um slice no array da imagem a fim de selecionarmos apenas uma dessas camadas e assim facilitar o processo computacional de contagem."
   ],
   "cell_type": "markdown",
   "metadata": {}
  },
  {
   "cell_type": "code",
   "execution_count": 3,
   "metadata": {},
   "outputs": [
    {
     "output_type": "execute_result",
     "data": {
      "text/plain": [
       "298"
      ]
     },
     "metadata": {},
     "execution_count": 3
    }
   ],
   "source": [
    "img_slice = img[:,:, 2]\n",
    "mascara = (img_slice == unicas[1][2])\n",
    "total_verdes = np.count_nonzero(mascara)\n",
    "total_verdes"
   ]
  },
  {
   "source": [
    "Assim, selecionamos apenas o canal R do array da imagem e aplicamos uma máscara neste, de forma que obtemos um array booleano composto por majoritariamente valores False (0) e valores True (1) apenas para as posições dos pixels cujos valores sejam de 96, o qual é o valor do canal R que compõe a cor verde presente na imagem, como identificamos acima.\n",
    "\n",
    "Portanto, temos um array onde temos o valor 1 para cada pixel verde presente na imagem, podemos então realizar a soma dos valores não nulos presentes neste array e teremos como resultado desta soma o número total de pixels verdes presentes na imagem, o qual é de 298 pixels verdes."
   ],
   "cell_type": "markdown",
   "metadata": {}
  },
  {
   "source": [
    "## Tarefa 2 - A imagem possui uma mensagem escondida, descubra qual a mensagem\n",
    "\n",
    "### Tentativa 1 - Estenografia\n",
    "\n",
    "A estenografia consiste no e uso de técnicas para ocultar a existência de uma mensagem dentro de outra, no nosso caso avaliamos a possibilidade de haver uma mensagem escondida no valor dos pixels presentes na imagem. Todavia, como constatamos na atividade anterior, temos apenas 3 cores de pixel na imagem (preto, branco e verde). Logo, sem a presença de pixels com cores muito similares às cores predominantes, descartamos a possibilidade de existir uma mensagem escondida na imagem com essa tecnica.\n",
    "\n",
    "### Tentativa 2 - Relação com os pixels verdes\n",
    "\n",
    "Como a primeira atividade consistia em contar o número de pixels verdes, tentaremos descobrir a mensagem escondida utilizando essa informação que obtemos na atividade anterior.\n",
    "\n",
    "Sabendo que temos 298 pixels verdes na imagem, o teste que realizamos consiste em percorrer os pixels da imagem e alterar a cor de um pixel para vermelho a cada 298 pixels que percorremos."
   ],
   "cell_type": "markdown",
   "metadata": {}
  },
  {
   "cell_type": "code",
   "execution_count": 4,
   "metadata": {},
   "outputs": [],
   "source": [
    "def troca_cor(array, nova_cor, step):\n",
    "    array_flat = array.reshape(-1, array.shape[2])\n",
    "    lagura = array_flat.shape[0]\n",
    "    \n",
    "    position = 0\n",
    "    while((position < lagura)):\n",
    "        array_flat[position] = nova_cor\n",
    "        position += step\n",
    "\n",
    "    return array_flat.reshape((300, 420, 3))\n",
    "\n",
    "def salva_imagem(img, path):\n",
    "    cv.imwrite(path, img)\n",
    "\n",
    "nova_img = troca_cor(img, [0, 0, 255], 298)\n",
    "salva_imagem(nova_img, 'resources/Tentativa2.bmp')"
   ]
  },
  {
   "source": [
    "Após salvarmos a imagem alterada, notamos que nenhum padrão relevante foi destacado, logo descartamos essa possibilidade para encontrar a mensagem escondida."
   ],
   "cell_type": "markdown",
   "metadata": {}
  }
 ]
}