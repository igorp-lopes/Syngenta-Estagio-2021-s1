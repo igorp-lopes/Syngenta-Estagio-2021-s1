{
 "metadata": {
  "language_info": {
   "codemirror_mode": {
    "name": "ipython",
    "version": 3
   },
   "file_extension": ".py",
   "mimetype": "text/x-python",
   "name": "python",
   "nbconvert_exporter": "python",
   "pygments_lexer": "ipython3",
   "version": "3.8.5-final"
  },
  "orig_nbformat": 2,
  "kernelspec": {
   "name": "python385jvsc74a57bd023517b489e2084a9df254d4df1f41ad28c4e781aa5582a3aaae83befa3085dff",
   "display_name": "Python 3.8.5 64-bit ('venv': venv)",
   "language": "python"
  }
 },
 "nbformat": 4,
 "nbformat_minor": 2,
 "cells": [
  {
   "source": [
    "# Processo Seletivo Estágio Syngenta\n",
    "\n",
    "## Tarefa 1 - Conte a quantidade de pixels verdes \n",
    "\n",
    "Para esta primeira tarefa, usaremos a biblioteca opencv para manipularmos a imagem .bmp fornecida a fim de obter as informações que desejamos.\n",
    "Abaixo importamos os módulos que usaremos para a tarefa e carregamos a imagem para manipularmos esta."
   ],
   "cell_type": "markdown",
   "metadata": {}
  },
  {
   "cell_type": "code",
   "execution_count": 4,
   "metadata": {},
   "outputs": [],
   "source": [
    "import numpy as np\n",
    "import cv2 as cv\n",
    "\n",
    "img = cv.imread('resources/Syngenta.bmp')\n"
   ]
  },
  {
   "source": [
    "A imagem é carregada como um Numpy array, no qual cada pixel é formado por um outro array de 3 valores, adotando a notação RGB para definir qual a cor do pixel em questão (Nota: a biblioteca openCV adota a notação dos valores como BGR e não RGB, como é usual).\n",
    "\n",
    "A próxima etapa agora é identificar quais cores estão presentes na imagem."
   ],
   "cell_type": "markdown",
   "metadata": {}
  },
  {
   "cell_type": "code",
   "execution_count": null,
   "metadata": {},
   "outputs": [],
   "source": [
    "teste = set(tupla(v) for m2d in img)\n",
    "unicas = set(tupla(v) for m2d in img for v in m2d)"
   ]
  }
 ]
}